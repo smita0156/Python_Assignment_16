{
 "cells": [
  {
   "cell_type": "code",
   "execution_count": null,
   "id": "692f7ac5-6dbf-4c70-9f1f-a35cd30931f4",
   "metadata": {},
   "outputs": [],
   "source": [
    "1. Create a list called years_list, starting with the year of your birth, and each year thereafter until\n",
    "the year of your fifth birthday. For example, if you were born in 1980. the list would be years_list =\n",
    "[1980, 1981, 1982, 1983, 1984, 1985]."
   ]
  },
  {
   "cell_type": "code",
   "execution_count": 1,
   "id": "80fe4763-871f-4e8c-b88d-f938707d047d",
   "metadata": {},
   "outputs": [
    {
     "data": {
      "text/plain": [
       "[1997, 1998, 1999, 2000, 2001, 2002]"
      ]
     },
     "execution_count": 1,
     "metadata": {},
     "output_type": "execute_result"
    }
   ],
   "source": [
    "\n",
    "\n",
    "years_list = [i for i in range(1997,1997+6)]\n",
    "years_list\n",
    "     "
   ]
  },
  {
   "cell_type": "code",
   "execution_count": null,
   "id": "ea8f3f1e-600e-438a-ad18-95d704d2853c",
   "metadata": {},
   "outputs": [],
   "source": [
    "2. In which year in years_list was your third birthday? Remember, you were 0 years of age for your\n",
    "first year."
   ]
  },
  {
   "cell_type": "code",
   "execution_count": 2,
   "id": "ecf9232e-0cf5-4b3f-827f-7820ea099159",
   "metadata": {},
   "outputs": [
    {
     "data": {
      "text/plain": [
       "2000"
      ]
     },
     "execution_count": 2,
     "metadata": {},
     "output_type": "execute_result"
    }
   ],
   "source": [
    "\n",
    "years_list[3]\n",
    "\n",
    "     "
   ]
  },
  {
   "cell_type": "code",
   "execution_count": null,
   "id": "edb5e88e-72ac-4078-9bf0-b70cd515ef2c",
   "metadata": {},
   "outputs": [],
   "source": [
    "3.In the years list, which year were you the oldest?"
   ]
  },
  {
   "cell_type": "code",
   "execution_count": 3,
   "id": "2607e64a-af41-445c-b1bb-525c2164b490",
   "metadata": {},
   "outputs": [
    {
     "data": {
      "text/plain": [
       "2000"
      ]
     },
     "execution_count": 3,
     "metadata": {},
     "output_type": "execute_result"
    }
   ],
   "source": [
    "\n",
    "years_list[3]\n",
    "\n",
    "     "
   ]
  },
  {
   "cell_type": "code",
   "execution_count": null,
   "id": "c3a9da1f-ce7f-45c4-af7b-cb7482bc6921",
   "metadata": {},
   "outputs": [],
   "source": [
    "4. Make a list called things with these three strings as elements: &quot;mozzarella&quot;, &quot;cinderella&quot;,\n",
    "&quot;salmonella&quot;."
   ]
  },
  {
   "cell_type": "code",
   "execution_count": 4,
   "id": "b58faee3-7c99-4b8d-ac59-dcad086550ec",
   "metadata": {},
   "outputs": [
    {
     "data": {
      "text/plain": [
       "['mozzarella', 'cinderella', 'salmonella']"
      ]
     },
     "execution_count": 4,
     "metadata": {},
     "output_type": "execute_result"
    }
   ],
   "source": [
    "\n",
    "things = list(['mozzarella', 'cinderella','salmonella'])\n",
    "things\n",
    "     "
   ]
  },
  {
   "cell_type": "code",
   "execution_count": null,
   "id": "139383ad-968b-4010-bdfc-5860a0173ad4",
   "metadata": {},
   "outputs": [],
   "source": [
    "5. Capitalize the element in things that refers to a person and then print the list. Did it change the\n",
    "element in the list?"
   ]
  },
  {
   "cell_type": "code",
   "execution_count": 5,
   "id": "c1382ccc-5514-4635-8bc8-43c9e07733f5",
   "metadata": {},
   "outputs": [
    {
     "name": "stdout",
     "output_type": "stream",
     "text": [
      "Mozzarella\n",
      "Cinderella\n",
      "Salmonella\n"
     ]
    },
    {
     "data": {
      "text/plain": [
       "['mozzarella', 'cinderella', 'salmonella']"
      ]
     },
     "execution_count": 5,
     "metadata": {},
     "output_type": "execute_result"
    }
   ],
   "source": [
    "\n",
    "for i in things:\n",
    "    print(i.capitalize())\n",
    "things\n",
    "#Capitalize() will not update the list original values."
   ]
  },
  {
   "cell_type": "code",
   "execution_count": null,
   "id": "951b1bb2-3bd5-4bc6-beec-479ba6e9ffee",
   "metadata": {},
   "outputs": [],
   "source": [
    "6. Make a surprise list with the elements &quot;Groucho,&quot; &quot;Chico,&quot; and &quot;Harpo.&quot;"
   ]
  },
  {
   "cell_type": "code",
   "execution_count": 6,
   "id": "483bc6ee-b3a5-4650-b9b7-fdac24441c5e",
   "metadata": {},
   "outputs": [
    {
     "data": {
      "text/plain": [
       "['Groucho', 'Chico', 'Harpo']"
      ]
     },
     "execution_count": 6,
     "metadata": {},
     "output_type": "execute_result"
    }
   ],
   "source": [
    "\n",
    "surprise_list = [\"Groucho\", \"Chico\", \"Harpo\"]\n",
    "surprise_list\n",
    "     "
   ]
  },
  {
   "cell_type": "code",
   "execution_count": null,
   "id": "d05625f4-0328-4cae-bed6-b056da0235c5",
   "metadata": {},
   "outputs": [],
   "source": [
    "7. Lowercase the last element of the surprise list, reverse it, and then capitalize it."
   ]
  },
  {
   "cell_type": "code",
   "execution_count": 7,
   "id": "b9d43ff2-9a5c-4f07-8aa3-8a00a78f1496",
   "metadata": {},
   "outputs": [
    {
     "data": {
      "text/plain": [
       "'harpo'"
      ]
     },
     "execution_count": 7,
     "metadata": {},
     "output_type": "execute_result"
    }
   ],
   "source": [
    "\n",
    "surprise_list[-1].lower()\n",
    "     "
   ]
  },
  {
   "cell_type": "code",
   "execution_count": 8,
   "id": "0228f9fa-f849-4f20-8dc8-43d214ff78bb",
   "metadata": {},
   "outputs": [
    {
     "data": {
      "text/plain": [
       "'opraH'"
      ]
     },
     "execution_count": 8,
     "metadata": {},
     "output_type": "execute_result"
    }
   ],
   "source": [
    "\n",
    "surprise_list[-1][::-1]\n",
    "     "
   ]
  },
  {
   "cell_type": "code",
   "execution_count": 9,
   "id": "b1ed130e-e6ba-4219-b517-034651d91473",
   "metadata": {},
   "outputs": [
    {
     "data": {
      "text/plain": [
       "'OPRAH'"
      ]
     },
     "execution_count": 9,
     "metadata": {},
     "output_type": "execute_result"
    }
   ],
   "source": [
    "\n",
    "surprise_list[-1][::-1].upper()\n",
    "     "
   ]
  },
  {
   "cell_type": "code",
   "execution_count": null,
   "id": "bd1c84d3-2e02-450e-b6d2-9aa1e3d9b865",
   "metadata": {},
   "outputs": [],
   "source": [
    "8. Make an English-to-French dictionary called e2f and print it. Here are your starter words: dog is\n",
    "chien, cat is chat, and walrus is morse."
   ]
  },
  {
   "cell_type": "code",
   "execution_count": 12,
   "id": "7ea0118f-7d14-4a76-ad66-8d999cebd822",
   "metadata": {},
   "outputs": [],
   "source": [
    "e2f = {'dog':'chien','cat':'chat','walrus':'morse'}"
   ]
  },
  {
   "cell_type": "code",
   "execution_count": null,
   "id": "21508f6d-2650-414e-904c-dc5e4e5e393c",
   "metadata": {},
   "outputs": [],
   "source": [
    "9. Write the French word for walrus in your three-word dictionary e2f."
   ]
  },
  {
   "cell_type": "code",
   "execution_count": null,
   "id": "7db79f3d-c814-4241-982b-d528480adae0",
   "metadata": {},
   "outputs": [],
   "source": [
    "\n",
    "e2f['walrus']\n",
    "\n",
    "     "
   ]
  },
  {
   "cell_type": "code",
   "execution_count": null,
   "id": "3135802c-7157-49b1-921e-57682e6ddc4c",
   "metadata": {},
   "outputs": [],
   "source": [
    "'morse'"
   ]
  },
  {
   "cell_type": "code",
   "execution_count": null,
   "id": "aaadae92-7cb1-49ab-93ef-3e67808811af",
   "metadata": {},
   "outputs": [],
   "source": [
    "10. Make a French-to-English dictionary called f2e from e2f. Use the items method."
   ]
  },
  {
   "cell_type": "code",
   "execution_count": null,
   "id": "55ec3c61-e299-4692-84bc-e9d71d669ad1",
   "metadata": {},
   "outputs": [],
   "source": [
    "\n",
    "f2e = dict((key,value) for value,key in e2f.items())\n",
    "f2e\n",
    "     "
   ]
  },
  {
   "cell_type": "code",
   "execution_count": null,
   "id": "ba66cf4f-c8f4-4e57-a82b-34b81383ed30",
   "metadata": {},
   "outputs": [],
   "source": [
    "{'chat': 'cat', 'chien': 'dog', 'morse': 'walrus'}"
   ]
  },
  {
   "cell_type": "code",
   "execution_count": null,
   "id": "34610b62-6382-485e-8ec5-2cfc052e3dee",
   "metadata": {},
   "outputs": [],
   "source": [
    "11. Print the English version of the French word chien using f2e."
   ]
  },
  {
   "cell_type": "code",
   "execution_count": null,
   "id": "70efd730-bf68-4166-ad28-b94951b08c51",
   "metadata": {},
   "outputs": [],
   "source": [
    "\n",
    "f2e['chien']\n",
    "     "
   ]
  },
  {
   "cell_type": "code",
   "execution_count": null,
   "id": "67f71cf5-e2bc-476a-93fe-f7f2cdd09139",
   "metadata": {},
   "outputs": [],
   "source": [
    "'dog'\n"
   ]
  },
  {
   "cell_type": "code",
   "execution_count": null,
   "id": "8a30de40-0c1e-4b8c-ae93-cb57c6be636e",
   "metadata": {},
   "outputs": [],
   "source": [
    "12. Make and print a set of English words from the keys in e2f."
   ]
  },
  {
   "cell_type": "code",
   "execution_count": 14,
   "id": "756ad4cd-9ede-42c6-9d20-a64505c72b22",
   "metadata": {},
   "outputs": [
    {
     "data": {
      "text/plain": [
       "dict_keys(['dog', 'cat', 'walrus'])"
      ]
     },
     "execution_count": 14,
     "metadata": {},
     "output_type": "execute_result"
    }
   ],
   "source": [
    "\n",
    "\n",
    "e2f.keys()\n",
    "     \n"
   ]
  },
  {
   "cell_type": "code",
   "execution_count": null,
   "id": "3035013b-c756-4ed0-b95d-4ecc570e34c3",
   "metadata": {},
   "outputs": [],
   "source": [
    "13. Make a multilevel dictionary called life. Use these strings for the topmost keys: &#39;animals&#39;, &#39;plants&#39;,\n",
    "and &#39;other&#39;. Make the &#39;animals&#39; key refer to another dictionary with the keys &#39;cats&#39;, &#39;octopi&#39;, and\n",
    "&#39;emus&#39;. Make the &#39;cats&#39; key refer to a list of strings with the values &#39;Henri&#39;, &#39;Grumpy&#39;, and &#39;Lucy&#39;.\n",
    "Make all the other keys refer to empty dictionaries."
   ]
  },
  {
   "cell_type": "code",
   "execution_count": 15,
   "id": "dd85edea-ba1d-4975-8067-1698bbca417f",
   "metadata": {},
   "outputs": [
    {
     "data": {
      "text/plain": [
       "{'animals': {'cat': ['Henri', 'Grumpy', 'Lucy'], 'octopi': '', 'emus': ''},\n",
       " 'plants': '',\n",
       " 'other': ''}"
      ]
     },
     "execution_count": 15,
     "metadata": {},
     "output_type": "execute_result"
    }
   ],
   "source": [
    "life ={'animals':{'cat':['Henri', 'Grumpy', 'Lucy'], 'octopi':'', 'emus':''},\n",
    "       'plants' :'',\n",
    "       'other' :'' }\n",
    "life\n",
    "\n"
   ]
  },
  {
   "cell_type": "code",
   "execution_count": null,
   "id": "118046f4-2e55-43f5-ac2e-5725cc4dda67",
   "metadata": {},
   "outputs": [],
   "source": [
    "14. Print the top-level keys of life."
   ]
  },
  {
   "cell_type": "code",
   "execution_count": 16,
   "id": "1c547475-84c8-4a88-8e16-90c178b7cac6",
   "metadata": {},
   "outputs": [
    {
     "data": {
      "text/plain": [
       "dict_keys(['animals', 'plants', 'other'])"
      ]
     },
     "execution_count": 16,
     "metadata": {},
     "output_type": "execute_result"
    }
   ],
   "source": [
    "\n",
    "life.keys()\n",
    "\n",
    "     \n"
   ]
  },
  {
   "cell_type": "code",
   "execution_count": null,
   "id": "382a6b1e-2d69-4da2-bb1f-46b4120e2ff7",
   "metadata": {},
   "outputs": [],
   "source": [
    "15. Print the keys for life[&#39;animals&#39;]."
   ]
  },
  {
   "cell_type": "code",
   "execution_count": 17,
   "id": "1270571a-c65b-47cd-af60-d83d508200f3",
   "metadata": {},
   "outputs": [
    {
     "data": {
      "text/plain": [
       "dict_keys(['cat', 'octopi', 'emus'])"
      ]
     },
     "execution_count": 17,
     "metadata": {},
     "output_type": "execute_result"
    }
   ],
   "source": [
    "life['animals'].keys()"
   ]
  },
  {
   "cell_type": "code",
   "execution_count": null,
   "id": "6419568d-1fdd-451c-ac89-2b600ca47d62",
   "metadata": {},
   "outputs": [],
   "source": [
    "16. Print the values for life[&#39;animals&#39;][&#39;cats&#39;]"
   ]
  },
  {
   "cell_type": "code",
   "execution_count": 18,
   "id": "9417dcd1-68b3-41e9-8f30-2cf61ccd4dee",
   "metadata": {},
   "outputs": [
    {
     "data": {
      "text/plain": [
       "['Henri', 'Grumpy', 'Lucy']"
      ]
     },
     "execution_count": 18,
     "metadata": {},
     "output_type": "execute_result"
    }
   ],
   "source": [
    "\n",
    "life['animals']['cat']\n",
    "     "
   ]
  },
  {
   "cell_type": "code",
   "execution_count": null,
   "id": "65073a6a-ccd6-461a-993c-8b28f405fde7",
   "metadata": {},
   "outputs": [],
   "source": []
  }
 ],
 "metadata": {
  "kernelspec": {
   "display_name": "Python 3 (ipykernel)",
   "language": "python",
   "name": "python3"
  },
  "language_info": {
   "codemirror_mode": {
    "name": "ipython",
    "version": 3
   },
   "file_extension": ".py",
   "mimetype": "text/x-python",
   "name": "python",
   "nbconvert_exporter": "python",
   "pygments_lexer": "ipython3",
   "version": "3.10.6"
  }
 },
 "nbformat": 4,
 "nbformat_minor": 5
}
